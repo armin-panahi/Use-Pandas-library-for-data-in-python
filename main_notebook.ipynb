{
 "cells": [
  {
   "cell_type": "markdown",
   "id": "0310007a",
   "metadata": {},
   "source": [
    "START PROJECT"
   ]
  },
  {
   "cell_type": "code",
   "execution_count": null,
   "id": "0538b3db",
   "metadata": {},
   "outputs": [],
   "source": [
    "import pandas as pds\n",
    "\n",
    "dataFrame1 = pds.DataFrame([[1,2,3],[4,5,6],[7,8,9]], columns=[\"A\",\"B\",\"C\"], index=[\"Num1\",\"Num2\",\"Num3\"])\n",
    "dataFrame2 = pds.DataFrame({\n",
    "    \"Name\": [\"Armin\",\"Reza\"],\n",
    "    \"Age\": [22, 27],\n",
    "})\n",
    "\n",
    "print(dataFrame1)\n",
    "print(\"- - - - -\")\n",
    "print(dataFrame2)"
   ]
  },
  {
   "cell_type": "markdown",
   "id": "f85cf92e",
   "metadata": {},
   "source": [
    "USE EXEL & CSV DATA "
   ]
  },
  {
   "cell_type": "code",
   "execution_count": null,
   "id": "c0c74a18",
   "metadata": {},
   "outputs": [],
   "source": [
    "import pandas as pds\n",
    "\n",
    "# Read Exel File\n",
    "# pds.read_excel(\"./random_data_exel.xlsx\")\n",
    "\n",
    "# Read CSV File\n"
   ]
  }
 ],
 "metadata": {
  "kernelspec": {
   "display_name": "Python 3",
   "language": "python",
   "name": "python3"
  },
  "language_info": {
   "codemirror_mode": {
    "name": "ipython",
    "version": 3
   },
   "file_extension": ".py",
   "mimetype": "text/x-python",
   "name": "python",
   "nbconvert_exporter": "python",
   "pygments_lexer": "ipython3",
   "version": "3.13.5"
  }
 },
 "nbformat": 4,
 "nbformat_minor": 5
}
